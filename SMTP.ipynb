{
 "cells": [
  {
   "cell_type": "code",
   "execution_count": 4,
   "metadata": {},
   "outputs": [
    {
     "name": "stdout",
     "output_type": "stream",
     "text": [
      "what is your gmail address? \n",
      " sathiya061098@gmail.com\n",
      "what is the password for that email address? \n",
      "  sathiyaprakashsp7\n",
      "what email address do you want to send your message to? \n",
      " gokul.19.1@protosem.tech\n",
      "What is your message? \n",
      " hey\n",
      " \n",
      " Sent!\n"
     ]
    },
    {
     "data": {
      "text/plain": [
       "(221, b'2.0.0 closing connection g13sm9069962pfm.159 - gsmtp')"
      ]
     },
     "execution_count": 4,
     "metadata": {},
     "output_type": "execute_result"
    }
   ],
   "source": [
    "import smtplib\n",
    "\n",
    "gmailaddress = input(\"what is your gmail address? \\n \")\n",
    "gmailpassword = input(\"what is the password for that email address? \\n  \")\n",
    "mailto = input(\"what email address do you want to send your message to? \\n \")\n",
    "msg = input(\"What is your message? \\n \")\n",
    "mailServer = smtplib.SMTP('smtp.gmail.com' , 587)\n",
    "mailServer.starttls()\n",
    "mailServer.login(gmailaddress , gmailpassword)\n",
    "mailServer.sendmail(gmailaddress, mailto , msg)\n",
    "print(\" \\n Sent!\")\n",
    "mailServer.quit()"
   ]
  },
  {
   "cell_type": "code",
   "execution_count": null,
   "metadata": {},
   "outputs": [],
   "source": []
  },
  {
   "cell_type": "code",
   "execution_count": null,
   "metadata": {},
   "outputs": [],
   "source": []
  }
 ],
 "metadata": {
  "kernelspec": {
   "display_name": "Python 3",
   "language": "python",
   "name": "python3"
  },
  "language_info": {
   "codemirror_mode": {
    "name": "ipython",
    "version": 3
   },
   "file_extension": ".py",
   "mimetype": "text/x-python",
   "name": "python",
   "nbconvert_exporter": "python",
   "pygments_lexer": "ipython3",
   "version": "3.7.1"
  }
 },
 "nbformat": 4,
 "nbformat_minor": 2
}
