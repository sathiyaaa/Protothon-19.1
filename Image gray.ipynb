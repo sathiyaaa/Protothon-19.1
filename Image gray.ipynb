{
 "cells": [
  {
   "cell_type": "code",
   "execution_count": 4,
   "metadata": {},
   "outputs": [],
   "source": [
    "import numpy as np\n",
    "from PIL import Image\n",
    "import PIL\n",
    "\n",
    "\n",
    "def black_white(arr,threshold=150):\n",
    "#gray = (red * 0.299) + (green * 0.587) + (blue * 0.114)\n",
    "    \n",
    "    array=arr\n",
    "    for i in range(len(array)):\n",
    "        for j in range(len(array[0])):\n",
    "            red=array[i][j][0]\n",
    "            green=array[i][j][1]\n",
    "            blue=array[i][j][2]\n",
    "            gray=(red*0.299)+(green*0.587)+(blue*0.114)\n",
    "            array[i][j]=(int(gray),int(gray),int(gray))\n",
    "\n",
    "            \n",
    "            '''if (np.all(array[i][j]>threshold)):\n",
    "                array[i][j]=255\n",
    "            else:\n",
    "                array[i][j]=1'''\n",
    "\n",
    "    return array\n",
    "\n",
    "\n",
    "data = np.array(Image.open(r\"C:/Users/Sathiya Prakash/Desktop/st/img_about.jpg\"))\n",
    "\n",
    "\n",
    "gray=black_white(data)\n",
    "\n",
    "result=PIL.Image.fromarray(gray)\n",
    "\n",
    "result.show()"
   ]
  },
  {
   "cell_type": "code",
   "execution_count": null,
   "metadata": {},
   "outputs": [],
   "source": []
  }
 ],
 "metadata": {
  "kernelspec": {
   "display_name": "Python 3",
   "language": "python",
   "name": "python3"
  },
  "language_info": {
   "codemirror_mode": {
    "name": "ipython",
    "version": 3
   },
   "file_extension": ".py",
   "mimetype": "text/x-python",
   "name": "python",
   "nbconvert_exporter": "python",
   "pygments_lexer": "ipython3",
   "version": "3.7.1"
  }
 },
 "nbformat": 4,
 "nbformat_minor": 2
}
