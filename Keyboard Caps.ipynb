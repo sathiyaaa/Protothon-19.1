{
 "cells": [
  {
   "cell_type": "code",
   "execution_count": null,
   "metadata": {},
   "outputs": [],
   "source": [
    "import keyboard  \n",
    "s=\"abcdefghijklmnopqrstuvwxyz\"\n",
    "l=[]\n",
    "\n",
    "for i in s:\n",
    "    l.append(i)\n",
    "    \n",
    "\n",
    "while True:\n",
    "    \n",
    "    try:\n",
    "        \n",
    "        \n",
    "        \n",
    "      for i in l:\n",
    "        if keyboard.is_pressed(i):  \n",
    "            print(i.upper(),end='')\n",
    "            time.sleep(0.15)\n",
    "            \n",
    "        else:\n",
    "            pass\n",
    "    except:\n",
    "        break  \n"
   ]
  },
  {
   "cell_type": "code",
   "execution_count": null,
   "metadata": {},
   "outputs": [],
   "source": []
  },
  {
   "cell_type": "code",
   "execution_count": null,
   "metadata": {},
   "outputs": [],
   "source": []
  }
 ],
 "metadata": {
  "kernelspec": {
   "display_name": "Python 3",
   "language": "python",
   "name": "python3"
  },
  "language_info": {
   "codemirror_mode": {
    "name": "ipython",
    "version": 3
   },
   "file_extension": ".py",
   "mimetype": "text/x-python",
   "name": "python",
   "nbconvert_exporter": "python",
   "pygments_lexer": "ipython3",
   "version": "3.7.1"
  }
 },
 "nbformat": 4,
 "nbformat_minor": 2
}
