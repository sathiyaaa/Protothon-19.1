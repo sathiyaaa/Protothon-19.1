{
 "cells": [
  {
   "cell_type": "code",
   "execution_count": 3,
   "metadata": {},
   "outputs": [
    {
     "name": "stdout",
     "output_type": "stream",
     "text": [
      "1,2,3\n",
      "['1', '2', '3']\n",
      "[1]\n",
      "[1, 4]\n",
      "[1, 4, 9]\n",
      "Rms is \n",
      "2.160246899469287\n"
     ]
    }
   ],
   "source": [
    "import math\n",
    "p=[]\n",
    "l=[]\n",
    "\n",
    "p=input().split(\",\")\n",
    "print(p)\n",
    "for i in p:\n",
    "    l.append(int(math.pow(int(i),2)))\n",
    "print(l)\n",
    "\n",
    "a=sum(l)/len(l)\n",
    "print(\"Rms is \")\n",
    "\n",
    "print(math.sqrt(a))\n"
   ]
  },
  {
   "cell_type": "code",
   "execution_count": null,
   "metadata": {},
   "outputs": [],
   "source": []
  }
 ],
 "metadata": {
  "kernelspec": {
   "display_name": "Python 3",
   "language": "python",
   "name": "python3"
  },
  "language_info": {
   "codemirror_mode": {
    "name": "ipython",
    "version": 3
   },
   "file_extension": ".py",
   "mimetype": "text/x-python",
   "name": "python",
   "nbconvert_exporter": "python",
   "pygments_lexer": "ipython3",
   "version": "3.7.1"
  }
 },
 "nbformat": 4,
 "nbformat_minor": 2
}
