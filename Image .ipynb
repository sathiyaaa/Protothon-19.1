{
 "cells": [
  {
   "cell_type": "code",
   "execution_count": 5,
   "metadata": {},
   "outputs": [
    {
     "name": "stdout",
     "output_type": "stream",
     "text": [
      "[[[243 243 243]\n",
      "  [241 241 241]\n",
      "  [242 242 242]\n",
      "  ...\n",
      "  [231 231 231]\n",
      "  [231 231 231]\n",
      "  [230 230 230]]\n",
      "\n",
      " [[242 242 242]\n",
      "  [242 242 242]\n",
      "  [242 242 242]\n",
      "  ...\n",
      "  [232 232 232]\n",
      "  [233 233 233]\n",
      "  [232 232 232]]\n",
      "\n",
      " [[244 244 244]\n",
      "  [242 242 242]\n",
      "  [241 241 241]\n",
      "  ...\n",
      "  [234 234 234]\n",
      "  [234 234 234]\n",
      "  [234 234 234]]\n",
      "\n",
      " ...\n",
      "\n",
      " [[ 68  68  68]\n",
      "  [ 76  76  76]\n",
      "  [ 68  68  68]\n",
      "  ...\n",
      "  [ 36  36  36]\n",
      "  [ 37  37  37]\n",
      "  [ 35  35  35]]\n",
      "\n",
      " [[ 76  76  76]\n",
      "  [ 64  64  64]\n",
      "  [ 74  74  74]\n",
      "  ...\n",
      "  [ 39  39  39]\n",
      "  [ 40  40  40]\n",
      "  [ 43  43  43]]\n",
      "\n",
      " [[ 71  71  71]\n",
      "  [ 67  67  67]\n",
      "  [ 74  74  74]\n",
      "  ...\n",
      "  [ 50  50  50]\n",
      "  [ 56  56  56]\n",
      "  [ 57  57  57]]]\n"
     ]
    },
    {
     "data": {
      "text/plain": [
       "True"
      ]
     },
     "execution_count": 5,
     "metadata": {},
     "output_type": "execute_result"
    }
   ],
   "source": [
    "import cv2 as cv\n",
    "image=cv.imread('C:/Users/Sathiya Prakash/Desktop/christo/e.jpg')\n",
    "new=[]\n",
    "\n",
    "b=image.shape\n",
    "\n",
    "for i in range(0,b[0]):\n",
    "    for j in range(0,b[1]):\n",
    "        image[i][j]=image[i][j][0]*0.34 + image[i][j][1]*0.51 + image[i][j][2]*0.15\n",
    "\n",
    "cv.imwrite('C:/Users/Sathiya Prakash/Desktop/christo/eeee.jpg',image)"
   ]
  },
  {
   "cell_type": "code",
   "execution_count": null,
   "metadata": {},
   "outputs": [],
   "source": []
  }
 ],
 "metadata": {
  "kernelspec": {
   "display_name": "Python 3",
   "language": "python",
   "name": "python3"
  },
  "language_info": {
   "codemirror_mode": {
    "name": "ipython",
    "version": 3
   },
   "file_extension": ".py",
   "mimetype": "text/x-python",
   "name": "python",
   "nbconvert_exporter": "python",
   "pygments_lexer": "ipython3",
   "version": "3.7.1"
  }
 },
 "nbformat": 4,
 "nbformat_minor": 2
}
