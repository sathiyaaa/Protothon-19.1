{
 "cells": [
  {
   "cell_type": "code",
   "execution_count": null,
   "metadata": {},
   "outputs": [],
   "source": [
    "\n",
    "import csv\n",
    "import tkinter\n",
    "import time\n",
    "import datetime\n",
    "from tkinter import *\n",
    "from tkinter import messagebox\n",
    "import uuid\n",
    "l=[[\"unique ID\",\"name\",\"phone number\",\"email\",\"company\",\"entry\"]]\n",
    "k=open(\"data.csv\",\"x\")\n",
    "with open(\"data.csv\",'w') as csvFile:\n",
    "            writer = csv.writer(csvFile)\n",
    "            writer.writerows(l)\n",
    "def clicked():\n",
    "    \n",
    "   \n",
    "    a=entry1.get()\n",
    "    b=entry2.get()\n",
    "    c=entry3.get()\n",
    "    d=entry4.get()\n",
    "    e=datetime.datetime.now()\n",
    "    l.append([uuid.uuid1(),a,b,c,d,e])\n",
    "    with open(\"data.csv\",'w') as csvFile:\n",
    "            writer = csv.writer(csvFile)\n",
    "            writer.writerows(l)\n",
    "    k.close()\n",
    "    \n",
    "   \n",
    "    \n",
    "def search():\n",
    "    s=entry5.get()\n",
    "    for i in l:\n",
    "        for j in i:\n",
    "            if(j==s):\n",
    "                messagebox.showinfo(\"There is match\")\n",
    "            else:\n",
    "                pass\n",
    "    \n",
    "window=tkinter.Tk()\n",
    "window.title(\"DB\")\n",
    "window.geometry(\"500x500\")\n",
    "lbl1=Label(window,text=\"registeration database\")\n",
    "lbl1.grid(column=0,row=0)\n",
    "lbl2=Label(window,text=\"Name\")\n",
    "lbl2.grid(column=2,row=2)\n",
    "entry1=Entry(window)\n",
    "entry1.grid(column=2,row=3)\n",
    "lbl3=Label(window,text=\"phone number\",fg=\"green\")\n",
    "lbl3.grid(column=2,row=4)\n",
    "entry2=Entry(window)\n",
    "entry2.grid(column=2,row=5)\n",
    "lbl4=Label(window,text=\"email\",fg=\"green\")\n",
    "lbl4.grid(column=2,row=6)\n",
    "entry3=Entry(window)\n",
    "entry3.grid(column=2,row=7)\n",
    "lbl5=Label(window,text=\"institution/company\",fg=\"green\")\n",
    "lbl5.grid(column=2,row=8)\n",
    "entry4=Entry(window)\n",
    "entry4.grid(column=2,row=9)\n",
    "lbl6=Label(window,text=\"type the word to search\",fg=\"green\")\n",
    "lbl6.grid(column=2,row=10)\n",
    "entry5=Entry(window)\n",
    "entry5.grid(column=2,row=11)\n",
    "btn1=Button(window,text=\"search\",command=search)\n",
    "btn1.grid(column=2,row=12)\n",
    "btn1=Button(window,text=\"submit\",command=clicked)\n",
    "btn1.grid(column=2,row=13)\n",
    "window.mainloop()"
   ]
  },
  {
   "cell_type": "code",
   "execution_count": 10,
   "metadata": {},
   "outputs": [
    {
     "ename": "AttributeError",
     "evalue": "module 'vlc' has no attribute 'MediaPlayer'",
     "output_type": "error",
     "traceback": [
      "\u001b[1;31m---------------------------------------------------------------------------\u001b[0m",
      "\u001b[1;31mAttributeError\u001b[0m                            Traceback (most recent call last)",
      "\u001b[1;32m<ipython-input-10-169d461f81b3>\u001b[0m in \u001b[0;36m<module>\u001b[1;34m\u001b[0m\n\u001b[0;32m      1\u001b[0m \u001b[1;32mimport\u001b[0m \u001b[0mvlc\u001b[0m\u001b[1;33m\u001b[0m\u001b[1;33m\u001b[0m\u001b[0m\n\u001b[1;32m----> 2\u001b[1;33m \u001b[0mplayer\u001b[0m \u001b[1;33m=\u001b[0m \u001b[0mvlc\u001b[0m\u001b[1;33m.\u001b[0m\u001b[0mMediaPlayer\u001b[0m\u001b[1;33m(\u001b[0m\u001b[1;34m\"C:/Users/Sathiya Prakash/Desktop/christo/22.mp3\"\u001b[0m\u001b[1;33m)\u001b[0m\u001b[1;33m\u001b[0m\u001b[1;33m\u001b[0m\u001b[0m\n\u001b[0m\u001b[0;32m      3\u001b[0m \u001b[0mplayer\u001b[0m\u001b[1;33m.\u001b[0m\u001b[0mplay\u001b[0m\u001b[1;33m(\u001b[0m\u001b[1;33m)\u001b[0m\u001b[1;33m\u001b[0m\u001b[1;33m\u001b[0m\u001b[0m\n\u001b[0;32m      4\u001b[0m \u001b[0mtime\u001b[0m\u001b[1;33m.\u001b[0m\u001b[0msleep\u001b[0m\u001b[1;33m(\u001b[0m\u001b[1;36m10\u001b[0m\u001b[1;33m)\u001b[0m\u001b[1;33m\u001b[0m\u001b[1;33m\u001b[0m\u001b[0m\n",
      "\u001b[1;31mAttributeError\u001b[0m: module 'vlc' has no attribute 'MediaPlayer'"
     ]
    }
   ],
   "source": []
  },
  {
   "cell_type": "code",
   "execution_count": null,
   "metadata": {},
   "outputs": [],
   "source": []
  }
 ],
 "metadata": {
  "kernelspec": {
   "display_name": "Python 3",
   "language": "python",
   "name": "python3"
  },
  "language_info": {
   "codemirror_mode": {
    "name": "ipython",
    "version": 3
   },
   "file_extension": ".py",
   "mimetype": "text/x-python",
   "name": "python",
   "nbconvert_exporter": "python",
   "pygments_lexer": "ipython3",
   "version": "3.7.1"
  }
 },
 "nbformat": 4,
 "nbformat_minor": 2
}
